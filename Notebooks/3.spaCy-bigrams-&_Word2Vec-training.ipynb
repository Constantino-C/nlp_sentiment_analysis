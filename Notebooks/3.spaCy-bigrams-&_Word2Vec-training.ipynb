{
 "cells": [
  {
   "cell_type": "markdown",
   "metadata": {},
   "source": [
    "# SpaCy Analysis of Clusters From HBDSCAN on Dreaddit labelled dataset\n",
    "## Using n-grams"
   ]
  },
  {
   "cell_type": "markdown",
   "metadata": {},
   "source": [
    "## Contents:\n",
    "* [Presentation](#Presentation)\n",
    "* [Imports](#Imports)\n",
    "* [Twitter stressor terms frequency count](Twitter-stressor-terms-frequency-count)\n",
    "* [Loading Topic Data](#Loading-Topic-Data)\n",
    "* [Text Preprocessing](#Text-Preprocessing)\n",
    "* [EDA](#EDA)\n",
    "* [Summary of unique ngrams per Topic](#Summary-of-unique-ngrams-per-Topic)    \n"
   ]
  },
  {
   "cell_type": "markdown",
   "metadata": {},
   "source": [
    "# Presentation \n",
    "[[back to contents]](#Contents:)\n",
    "\n",
    "This notebook is dedicated to exploring the results of our groups work on clustering usign spaCy. Clusters have been developed using HBDSCAN on the Dreaddit labelled dataset. More information about how these clusters have been generated is available in other notebooks. In this notebook, I will be exploring posts from the Dreaddit labelled dataset have been grouped into one of several topics. Some posts have not been put into topics as the HBDSCAN algorithm ignores posts that it believes are outliers. These are identified as having a Topic = -1, and will be ignored for the purpose of this analysis.\n",
    "\n",
    "\n",
    "The current nlp pipeline involves:\n",
    "* Creating a spaCy Doc containing the text from all posts in each Topic\n",
    "* Tokenization of words using the default model provided by spaCy\n",
    "* Removing stop words\n",
    "* Selecting the n - grams in each topic\n",
    "\n",
    "N-grams will be initially investigated to try and determine differences between posts in each Topic. We will try to identify the most important n-grams for each topic and use them as identifiers for further analysis. These n-grams will potentially help to understand the relationship between the clustered topics.\n",
    "\n",
    "_**Secondary approach:**_\n",
    "_Before proceeding with extacting the ngrams, I start with first counting the frequency of words in each dreaddit \"stressful\" post and look up the appearances of the most popular words in the tweeter stressor dataset to evaluate the effectiveness of this approach_ \n",
    "\n",
    "\n"
   ]
  },
  {
   "cell_type": "markdown",
   "metadata": {},
   "source": [
    "# Imports\n",
    "[[back to contents]](#Contents:)"
   ]
  },
  {
   "cell_type": "code",
   "execution_count": 1,
   "metadata": {},
   "outputs": [
    {
     "name": "stderr",
     "output_type": "stream",
     "text": [
      "[nltk_data] Downloading package stopwords to\n",
      "[nltk_data]     C:\\Users\\cncos\\AppData\\Roaming\\nltk_data...\n",
      "[nltk_data]   Package stopwords is already up-to-date!\n",
      "[nltk_data] Downloading package punkt to\n",
      "[nltk_data]     C:\\Users\\cncos\\AppData\\Roaming\\nltk_data...\n",
      "[nltk_data]   Package punkt is already up-to-date!\n"
     ]
    }
   ],
   "source": [
    "import pandas as pd\n",
    "from pattern.en import parsetree, ngrams\n",
    "from pattern.search import search\n",
    "from collections import Counter\n",
    "import random\n",
    "import spacy\n",
    "from spacy import displacy\n",
    "from spacy.tokens import Doc\n",
    "from wordcloud import WordCloud\n",
    "import matplotlib.pyplot as plt\n",
    "import numpy as np\n",
    "import os\n",
    "import re\n",
    "from nltk.stem import WordNetLemmatizer\n",
    "from nltk import sent_tokenize\n",
    "import nltk\n",
    "nltk.download('stopwords')\n",
    "nltk.download('punkt')\n",
    "stopwords = nltk.corpus.stopwords.words('english')\n",
    "%config Completer.use_jedi = False"
   ]
  },
  {
   "cell_type": "code",
   "execution_count": 2,
   "metadata": {},
   "outputs": [],
   "source": [
    "INTERIM_DATA_FOLDER = os.path.join(\"..\",\"..\", \"data\", \"interim\")\n",
    "RAW_DATA_FOLDER = os.path.join(\"..\", \"..\", \"data\", \"raw\")\n",
    "\n",
    "# # Run this command to download en_core_web_md if required\n",
    "# !python -m spacy download en_core_web_md\n",
    "\n",
    "\n",
    "SPACY_MODEL = \"en_core_web_md\" # model en_core_web_md includes also word vectors of 300 dimesions. "
   ]
  },
  {
   "cell_type": "code",
   "execution_count": 3,
   "metadata": {
    "scrolled": true
   },
   "outputs": [],
   "source": [
    "nlp = spacy.load(SPACY_MODEL) "
   ]
  },
  {
   "cell_type": "code",
   "execution_count": null,
   "metadata": {},
   "outputs": [],
   "source": []
  },
  {
   "cell_type": "markdown",
   "metadata": {},
   "source": [
    "<br/><br/><br/><br/>"
   ]
  },
  {
   "cell_type": "markdown",
   "metadata": {},
   "source": [
    "# Twitter stressor terms frequency count\n",
    "## Using NLTK \n",
    "[[back to contents]](#Contents:)"
   ]
  },
  {
   "cell_type": "markdown",
   "metadata": {},
   "source": [
    "The idea here is to count the words in each post that appear in each stressor category, as these categories are given in the tweeter dataset. Then we will look up at the distribution of words and observe if there is any useful conclusions we can make from the counting."
   ]
  },
  {
   "cell_type": "code",
   "execution_count": 4,
   "metadata": {},
   "outputs": [],
   "source": [
    "# tweeter post preprocessing \n",
    "def lemmatize_stress(corpus):\n",
    "    lemmatizer = WordNetLemmatizer()\n",
    "    text=[]\n",
    "    for term in corpus.termy:\n",
    "        tokens = [word.lower() for word in nltk.word_tokenize(term)]\n",
    "        word_tokens = []\n",
    "        for token in tokens:\n",
    "            # include only words\n",
    "                if (re.match( '^[ !\"\\'()*+-./:;<=>[]^_|~]+$' , token )) or (re.search('^[a-zA-Z]+$', token) and (token not in stopwords) and len(token)>3): \n",
    "                    word_tokens.append(lemmatizer.lemmatize(token))\n",
    "        text.append(\" \".join(word_tokens))\n",
    "    return text\n"
   ]
  },
  {
   "cell_type": "code",
   "execution_count": 5,
   "metadata": {},
   "outputs": [],
   "source": [
    "# dreaddit post preprocessing \n",
    "def lemmatize_post(corpus):\n",
    "    lemmatizer = WordNetLemmatizer()\n",
    "    text=[]\n",
    "    for term in corpus.post:\n",
    "        tokens = [word.lower() for word in nltk.word_tokenize(term)]\n",
    "        word_tokens = []\n",
    "        for token in tokens:\n",
    "            # include only words\n",
    "                if (re.match( '^[ !\"\\'()*+-./:;<=>[]^_|~]+$' , token )) or (re.search('^[a-zA-Z]+$', token) and (token not in stopwords) and len(token)>3): \n",
    "                    word_tokens.append(lemmatizer.lemmatize(token))\n",
    "        text.append(\" \".join(word_tokens))\n",
    "    return text\n"
   ]
  },
  {
   "cell_type": "code",
   "execution_count": 6,
   "metadata": {},
   "outputs": [],
   "source": [
    "#load the sressor tweeter vocabulary \n",
    "stressors = os.path.join(RAW_DATA_FOLDER, \"twitter_stress_topics_dataset\", \"stressors_a20n31_topwords.csv\")\n",
    "processed_vocab = os.path.join(INTERIM_DATA_FOLDER, \"LIWC_feature_extraction_dreaddit_data.csv\")\n",
    "stressors_voc = pd.read_csv(stressors)\n",
    "text = lemmatize_stress(stressors_voc)\n",
    "str_terms = pd.DataFrame([text]).T\n",
    "sterms = pd.concat([str_terms, stressors_voc.topic_title], axis=1 )\n",
    "sterms.columns=['terms', 'topic']"
   ]
  },
  {
   "cell_type": "code",
   "execution_count": null,
   "metadata": {},
   "outputs": [],
   "source": []
  },
  {
   "cell_type": "code",
   "execution_count": 7,
   "metadata": {},
   "outputs": [],
   "source": [
    "# load the LIWC extracted features\n",
    "LIWC_vocabulary_analysis = pd.read_csv(processed_vocab)\n"
   ]
  },
  {
   "cell_type": "code",
   "execution_count": 8,
   "metadata": {},
   "outputs": [],
   "source": [
    "#preprocessing of dreaddit posts\n",
    "text = lemmatize_post(LIWC_vocabulary_analysis)\n",
    "LIWC_vocabulary_analysis.post = text"
   ]
  },
  {
   "cell_type": "code",
   "execution_count": 9,
   "metadata": {},
   "outputs": [],
   "source": [
    "# create vocabulary to hold the posts and top topics resulted from word counting\n",
    "\n",
    "d = {topic: 0 for topic in sterms.topic}\n",
    "potential_stressor = {}\n",
    "\n",
    "for post, ID in zip(LIWC_vocabulary_analysis.post,LIWC_vocabulary_analysis.id) :\n",
    "    p = post.split()\n",
    "# reset the word counts for the next post\n",
    "    d = {key: 0 for key in d}\n",
    "    for terms, topic in zip(sterms.terms,sterms.topic):\n",
    "        t = terms.split()\n",
    "        for word in p:\n",
    "            if word in t: \n",
    "                d[topic]+=1    \n",
    "#sort the topics for each post by the counted words and retrieve the most popular topics\n",
    "#these topics will be potentially be related to the stressor of each post \n",
    "    top_terms_items = sorted(d.items(), key=lambda item: item[1], reverse = True)[:5]\n",
    "    top_terms_keys = [key[0] for key in top_terms_items] \n",
    "    potential_stressor[ID] = [top_terms_keys]\n",
    "\n",
    "# create dataframe to hold the results \n",
    "pot_stressors = pd.DataFrame(potential_stressor).T.reset_index()\n",
    "pot_stressors.columns=['id', 'stressors']\n",
    "stressors_analysis= pd.merge(LIWC_vocabulary_analysis.iloc[:,:3], pot_stressors, on = 'id')\n",
    "\n"
   ]
  },
  {
   "cell_type": "code",
   "execution_count": 10,
   "metadata": {},
   "outputs": [
    {
     "name": "stdout",
     "output_type": "stream",
     "text": [
      "boyfriend amazing kind sweet good student like thing family like dont feel passion rush felt truth started going boyfriend secretly time really didnt feel nothing disgusting didnt even want touch feel didnt want still kinda realized felt nothing love related hurt knew dating even begged stay course problem boyfriend dont feel like love like thing kinda feel love feel catch thinking time time remembering good thing drive crazy know wont feel love mind make think still recently found girl actually enjoying experience hurt know dont right feel felt betrayed still feel gross \n",
      "\n",
      "\n",
      "['positive affect', 'feeling pain', 'family', 'feeling overwhelmed', 'relationships'] \n",
      "\n",
      "\n"
     ]
    }
   ],
   "source": [
    "# dataframe to hold only stressed posts\n",
    "stress_posts = stressors_analysis[stressors_analysis.label==1].reset_index(drop=True)\n",
    "pn = 2\n",
    "print(stress_posts.post[pn], '\\n\\n')\n",
    "print(stress_posts.stressors[pn], '\\n\\n')\n",
    "\n"
   ]
  },
  {
   "cell_type": "markdown",
   "metadata": {},
   "source": [
    "We see that from the above tweeter labels the matching oif these to the context of the post is not ideal. We need to use other methods to try identify the stressors in the posts. "
   ]
  },
  {
   "cell_type": "markdown",
   "metadata": {},
   "source": [
    "<br/><br/><br/><br/>"
   ]
  },
  {
   "cell_type": "markdown",
   "metadata": {},
   "source": [
    "# Loading Topic Data\n",
    "[[back to contents]](#Contents:)\n"
   ]
  },
  {
   "cell_type": "markdown",
   "metadata": {},
   "source": [
    "We currently have two models for generating clusters. The first uses feature reduction using UMAP before clustering with HDBSCAN (Ines). Posts with Topic = -1 were not clustered by the HDBSCAN algorithm and shall be ignored for the purpose of this analysis."
   ]
  },
  {
   "cell_type": "code",
   "execution_count": 11,
   "metadata": {},
   "outputs": [],
   "source": [
    "df = pd.read_pickle(os.path.join(INTERIM_DATA_FOLDER, \"unsupervised_clustering_UMAP_HDBSCAN_results.p\"))\n",
    "df.rename(columns={'Post': 'text'},inplace=True)"
   ]
  },
  {
   "cell_type": "code",
   "execution_count": 12,
   "metadata": {
    "scrolled": true
   },
   "outputs": [
    {
     "data": {
      "text/plain": [
       "-1     1892\n",
       " 12     427\n",
       " 30     157\n",
       " 14     109\n",
       " 3       94\n",
       " 28      83\n",
       " 31      77\n",
       " 33      76\n",
       " 6       66\n",
       " 21      40\n",
       " 10      37\n",
       " 13      34\n",
       " 25      33\n",
       " 32      33\n",
       " 18      31\n",
       " 4       27\n",
       " 1       26\n",
       " 16      23\n",
       " 8       22\n",
       " 26      21\n",
       " 5       20\n",
       " 22      20\n",
       " 17      20\n",
       " 20      19\n",
       " 23      19\n",
       " 27      18\n",
       " 34      16\n",
       " 15      15\n",
       " 29      14\n",
       " 19      14\n",
       " 2       13\n",
       " 0       12\n",
       " 11      12\n",
       " 9       11\n",
       " 24      11\n",
       " 7       11\n",
       "Name: Topic, dtype: int64"
      ]
     },
     "execution_count": 12,
     "metadata": {},
     "output_type": "execute_result"
    }
   ],
   "source": [
    "df['Topic'].value_counts()"
   ]
  },
  {
   "cell_type": "markdown",
   "metadata": {},
   "source": [
    "The second clustering model involves running the HDBSCAN on the LIWC features."
   ]
  },
  {
   "cell_type": "code",
   "execution_count": 13,
   "metadata": {},
   "outputs": [],
   "source": [
    "df2 = pd.read_csv(os.path.join(INTERIM_DATA_FOLDER, \"hdbscan_liwc_results.csv\"), index_col=0 )"
   ]
  },
  {
   "cell_type": "code",
   "execution_count": 14,
   "metadata": {},
   "outputs": [
    {
     "data": {
      "text/plain": [
       "-1     1652\n",
       " 9      642\n",
       " 13     611\n",
       " 7      272\n",
       " 5      109\n",
       " 0       50\n",
       " 4       41\n",
       " 6       32\n",
       " 2       28\n",
       " 8       25\n",
       " 3       23\n",
       " 1       20\n",
       " 11      17\n",
       " 10      16\n",
       " 12      15\n",
       "Name: Topic, dtype: int64"
      ]
     },
     "execution_count": 14,
     "metadata": {},
     "output_type": "execute_result"
    }
   ],
   "source": [
    "df2['Topic'].value_counts()"
   ]
  },
  {
   "cell_type": "code",
   "execution_count": null,
   "metadata": {},
   "outputs": [],
   "source": []
  },
  {
   "cell_type": "markdown",
   "metadata": {},
   "source": [
    "From the value counts, it appears that the second method was able to put more posts into one of the clusters. This is shown by the lower number of the -1 Topic - posts that have been identified."
   ]
  },
  {
   "cell_type": "markdown",
   "metadata": {},
   "source": [
    "# Text Preprocessing\n",
    "[[back to contents]](#Contents:)"
   ]
  },
  {
   "cell_type": "markdown",
   "metadata": {},
   "source": [
    "To explore the text in these dataframes, I will first convert the posts to spaCy Docs so that further text processing can be performed. To do this, I will first create the following function that creates a spaCy Doc from all of the posts from a specific dataframes Topic. "
   ]
  },
  {
   "cell_type": "code",
   "execution_count": 15,
   "metadata": {},
   "outputs": [],
   "source": [
    "def get_topic_doc_from(df, topic=0):\n",
    "    \"\"\"\n",
    "    Creates spaCy Doc from posts labelled with a Topic\n",
    "    \n",
    "    Parameters\n",
    "    ----------\n",
    "    df : pandas.DataFrame()\n",
    "        dataframe containing posts and topics\n",
    "        posts must be in a ['text'] column\n",
    "        topics must be in a ['Topic'] column\n",
    "    topic : int (optional)\n",
    "        topic that the posts have been labelled with.\n",
    "    \n",
    "    Returns\n",
    "    -------\n",
    "    topic_doc : spacy.tokens.doc.Doc\n",
    "        All of the text from posts labelled with the topic\n",
    "    n_posts : int\n",
    "        The number of posts in labelled with the topic\n",
    "    \"\"\"\n",
    "    topic_df = df[df['Topic'].values == topic]\n",
    "    topic_text = topic_df['text']\n",
    "    list_topic = topic_text.tolist()\n",
    "    n_posts = len(list_topic)\n",
    "    #create a list of spacy posts\n",
    "    doc = list(nlp.pipe(list_topic))\n",
    "    #put together all posts into a spacy document\n",
    "    topic_doc = Doc.from_docs(doc)\n",
    "    return topic_doc, n_posts"
   ]
  },
  {
   "cell_type": "code",
   "execution_count": null,
   "metadata": {},
   "outputs": [],
   "source": []
  },
  {
   "cell_type": "code",
   "execution_count": null,
   "metadata": {},
   "outputs": [],
   "source": []
  },
  {
   "cell_type": "code",
   "execution_count": null,
   "metadata": {},
   "outputs": [],
   "source": []
  },
  {
   "cell_type": "markdown",
   "metadata": {},
   "source": [
    "The spaCy Doc still contains features such as punctuation and stopwords. The following function selects only the nouns from each Topic Doc. \n",
    "\n",
    "As each Topic has a different number of posts, the number of occurrences of a specific noun can not be directly compared between two Topics. Instead, the relative frequency of occurrence (% of noun presence in a topic) of each noun should be used. This is calculated by dividing the number of occurrences of the noun in a Topic by the number of posts in a Topic. The following function returns the frequency of occurrences of each noun in a given Topic in descending order."
   ]
  },
  {
   "cell_type": "code",
   "execution_count": 16,
   "metadata": {},
   "outputs": [],
   "source": [
    "def get_topic_noun_from(topic_doc):\n",
    "    \"\"\"\n",
    "    Creates list of tuples containing nouns and their frequency of occurrences in a Topic\n",
    "    \n",
    "    Parameters\n",
    "    ----------\n",
    "    topic_doc : spacy.tokens.doc.Doc\n",
    "        All of the text from posts labelled with the topic\n",
    "    \n",
    "    Returns\n",
    "    -------\n",
    "    topic_noun_count : list(noun, count)\n",
    "        list of tuples of containing nouns and their count in a Topic\n",
    "    \"\"\"\n",
    "    topic_nouns = [token.text for token in topic_doc if token.pos_ == \"NOUN\" and token.is_stop != True]\n",
    "    topic_noun_count = Counter(topic_nouns)\n",
    "    return topic_noun_count"
   ]
  },
  {
   "cell_type": "markdown",
   "metadata": {},
   "source": [
    "I use the pattern library's **search** function to find the combinations of: <p> \n",
    "- Adjectives + Nouns \n",
    "- Nouns + Nouns and \n",
    "- Verbs + Nouns\n",
    "\n",
    "Often powerful word combinations consist of these grammatical terms. Examples are _**cloud computing** , **sexual abuse**_.\n",
    "<br>\n",
    "\n",
    "Note that the patterns library has a **ngrams** function but this is not preferred in this instance as the ngrams will pick up combinations of words which do not have a significant meaning. "
   ]
  },
  {
   "cell_type": "code",
   "execution_count": 17,
   "metadata": {},
   "outputs": [],
   "source": [
    "def get_topic_ngrams_from(topic_doc):\n",
    "    \"\"\"\n",
    "    Creates list of tuples containing ngrams and their frequency of occurrences in a Topic.\n",
    "    Ngrams are based on: \n",
    "    JJ + NN: adjective followed by noun e.g sexual abuse\n",
    "    NN + NN: noun followed by noun e.g cloud computing \n",
    "    VB + NN: verb follwed by noun e.g killed me\n",
    "    \n",
    "    Parameters\n",
    "    ----------\n",
    "    topic_doc : spacy.tokens.doc.Doc\n",
    "        All of the text from posts labelled with the topic\n",
    "    \n",
    "    Returns\n",
    "    -------\n",
    "    bigrams_dict : dictionary of bigrams with their occurences in the topic\n",
    "    bigrams count: count of bigrams \n",
    "        tuple containing the dictionary of bigrams and the count of bigrams\n",
    "    \"\"\"\n",
    "    search_terms = [(\"VB NN\"), (\"JJ NN\"), (\"NN NN\")]\n",
    "    \n",
    "    \n",
    "    #the code below runs unitl the call of parstree module returns a valid result.\n",
    "    #due to a bag in the pastree module the first times the module is called it \n",
    "    #returns a StopIteration Error. \n",
    "    error = True\n",
    "    while error:\n",
    "        try:\n",
    "            s= parsetree(topic_doc[0].text, relations=True, lemmata=True)\n",
    "            error = False\n",
    "        except:\n",
    "            error = True\n",
    "    \n",
    "    \n",
    "    bigrams_batch = []\n",
    "    for i, terms in enumerate(search_terms):\n",
    "        result = search(terms, s)\n",
    "        if len(result)>0:\n",
    "            bigrams = [(match.string.lower(), terms) for match in result if bool(re.search('^[a-zA-Z]', match.string)) ]\n",
    "            bigrams_batch.append((bigrams, terms))\n",
    "    bigrams_sum = [item for sublist in bigrams_batch for item in sublist[0]]\n",
    "    bigrams_dict = dict(Counter(bigrams_sum))\n",
    "    bigrams_count = len(dict(Counter(bigrams_sum)))\n",
    "    return bigrams_dict, bigrams_count\n",
    "    \n",
    "    \n",
    "    "
   ]
  },
  {
   "cell_type": "code",
   "execution_count": null,
   "metadata": {},
   "outputs": [],
   "source": []
  },
  {
   "cell_type": "code",
   "execution_count": 18,
   "metadata": {},
   "outputs": [],
   "source": [
    "def ngrams_freq_unique(df):\n",
    "    \"\"\"\n",
    "    Creates dictionary of all ngrams and their frequency of occurrences throughout all Topics\n",
    "    \n",
    "    Parameters\n",
    "    ----------\n",
    "    df : pandas.DataFrame()\n",
    "        dataframe containing posts and topics\n",
    "        posts must be in a ['text'] column\n",
    "        topics must be in a ['Topic'] column\n",
    "    \n",
    "    Returns\n",
    "    -------\n",
    "    topic_ngrams_freq : dict()\n",
    "        dictionary of ngrams and their frequency of occurrence thoughout all Topics\n",
    "    ngrams_unique : dict()\n",
    "        dictionary of the importance (uniqueness) of each ngram to each topic\n",
    "    \"\"\"\n",
    "    #get the number of all topics. All topics found in topic modelling -1 for the non clustered topics \n",
    "    topic_n = df['Topic'].nunique() - 1\n",
    "    Topic_bigrams_dict = {'Topic_'+ str(i) : [] for i in range(0,topic_n)}\n",
    "    for i in range(0,topic_n):\n",
    "        topic_doc = get_topic_doc_from(df, topic=i)\n",
    "        bigrams_dict, bigrams_count = get_topic_ngrams_from(topic_doc)\n",
    "        Topic_bigrams_dict['Topic_'+ str(i)] = bigrams_dict    \n",
    "        \n",
    "    # create list of unique ngrams\n",
    "    All_bigrams_dict_keys = [Topic_bigrams_dict[topic].keys() for topic in Topic_bigrams_dict]\n",
    "    all_keys_list = list(set([keys for dict_keys in All_bigrams_dict_keys for keys in dict_keys]))\n",
    "    \n",
    "    # count all times that a particular ngram appears throughout all topics in all posts\n",
    "    all_key_counts = {}\n",
    "    for key in all_keys_list:\n",
    "        counts=0\n",
    "        for topic in Topic_bigrams_dict:\n",
    "            if key in Topic_bigrams_dict[topic].keys():\n",
    "                counts += Topic_bigrams_dict[topic][key]\n",
    "        all_key_counts[key] = counts\n",
    "        \n",
    "    # create ditionary of ngrams uniqueness. Uniqueness explains how much is a particular ngram unique to a particular topic\n",
    "    ngrams_unique = Topic_bigrams_dict.copy()\n",
    "    for topic in ngrams_unique: \n",
    "        ngrams_unique[topic] = ngrams_unique[topic].fromkeys(ngrams_unique[topic], 0)\n",
    "\n",
    "    for topic in Topic_bigrams_dict:\n",
    "        for key in Topic_bigrams_dict[topic].keys():\n",
    "            ngrams_unique[topic][key] = Topic_bigrams_dict[topic][key]/ all_key_counts[key]\n",
    "\n",
    "    return Topic_bigrams_dict, ngrams_unique, all_key_counts\n",
    "\n",
    "\n",
    "    \n",
    "    \n"
   ]
  },
  {
   "cell_type": "code",
   "execution_count": 19,
   "metadata": {},
   "outputs": [],
   "source": [
    "Topics_bigrams, ngrams_unique, all_key_counts =  ngrams_freq_unique(df2)\n"
   ]
  },
  {
   "cell_type": "code",
   "execution_count": 20,
   "metadata": {},
   "outputs": [],
   "source": [
    "# sorted(all_key_counts.items(), key = lambda x : x[1], reverse = True)[:50]"
   ]
  },
  {
   "cell_type": "markdown",
   "metadata": {},
   "source": [
    "# EDA\n",
    "[[back to contents]](#Contents:)"
   ]
  },
  {
   "cell_type": "markdown",
   "metadata": {},
   "source": [
    "A nice method of text visualisation are wordclouds. These following functions outputs the ngrams from a given topic as a word cloud. The greater the number of occurrences of the noun in the wordcloud, the larger the size of the word. \n",
    "Let's visualise through word clouds the ngrams which are most popular among all topics."
   ]
  },
  {
   "cell_type": "code",
   "execution_count": 21,
   "metadata": {},
   "outputs": [],
   "source": [
    "def popular_ngrams_wordcloud(all_key_counts, n=10):\n",
    "    \"\"\"\n",
    "    Creates wordcloud for the most popular ngrams throughout all Topics\n",
    "    \n",
    "    Parameters\n",
    "    ----------\n",
    "    all_key_counts : dict()\n",
    "        dictionary containing the counts of all ngrams\n",
    "        across all Topics. \n",
    "        must be in format { ('n_gram', 'part_of_speech') : number_of_occurences }\n",
    "        \n",
    "    n : int (optional)\n",
    "        define the number of the most popular ngrams \n",
    "        to illustrate in the wordcloud.\n",
    "        \n",
    "    Returns\n",
    "    -------\n",
    "    wordcloud : WordCloud()\n",
    "        wordcloud of ngrams based on their number of occurrences in all Topics\n",
    "    \"\"\"\n",
    "    top_bigrams = dict(sorted(all_key_counts.items(), key =  lambda x: x[1], reverse = True)[:n])\n",
    "    ngram = {item[0] : top_bigrams[item] for item in top_bigrams}\n",
    "    wordcloud = WordCloud(background_color='white')\n",
    "    wordcloud.generate_from_frequencies(ngram)\n",
    "    plt.imshow(wordcloud, interpolation='bilinear')\n",
    "\n",
    "\n",
    "\n",
    "\n",
    "\n"
   ]
  },
  {
   "cell_type": "code",
   "execution_count": 22,
   "metadata": {},
   "outputs": [
    {
     "data": {
      "image/png": "[encoded data removed]",
      "text/plain": [
       "<Figure size 432x288 with 1 Axes>"
      ]
     },
     "metadata": {
      "needs_background": "light"
     },
     "output_type": "display_data"
    }
   ],
   "source": [
    "popular_ngrams_wordcloud(all_key_counts, n=30)"
   ]
  },
  {
   "cell_type": "markdown",
   "metadata": {},
   "source": [
    "Definitely from the cloud we observe some powerful ngrams able to provide good indication of the post's sentiment such as: <p>\n",
    "Mental health, $\\;\\;$ Panic attack, $\\;\\;$ Abusive relationship \n",
    "<p>\n",
    "It is not clear how ngrams such as first time, long time, same, time etc will have a significant meaning for sentiment analysis. Words like this tend to have similar behaviour to stopwords but this is to be investigated further."
   ]
  },
  {
   "cell_type": "markdown",
   "metadata": {},
   "source": [
    "## Summary of unique ngrams per Topic\n",
    "[[back to contents]](#Contents:)"
   ]
  },
  {
   "cell_type": "markdown",
   "metadata": {},
   "source": [
    "The table below summarises all unique ngrams per Topic. The score 0-1 defines the uniquness of a ngram in a particular Topic, ie. the ngram does not exist in other Topics with 1 meaning the ngram is unique; a value closer to 0 means that the ngram appears in too many of the Topics."
   ]
  },
  {
   "cell_type": "code",
   "execution_count": 23,
   "metadata": {},
   "outputs": [],
   "source": [
    "def create_ngrams_table(Topic_bigrams_dict, ngrams_unique):\n",
    "    \"\"\"\n",
    "    Creates a dataframe withe the unique ngrams for each Topic.\n",
    "    \n",
    "    Parameters\n",
    "    ----------\n",
    "    Topic_bigrams_dict : dict()\n",
    "        dictionary containing the unique ngrams for each topic. \n",
    "        must be in format {  Topic_0: { ('n_gram', 'part_of_speech') : number_of_occurences.. },\n",
    "                             Topic_1: { ('n_gram', 'part_of_speech') : number_of_occurences.. }..}  \n",
    "        \n",
    "        \n",
    "    Returns\n",
    "    -------\n",
    "    ngrams_table : pd.DataFrame()\n",
    "        \n",
    "    \"\"\"\n",
    "    d = {topic : [] for topic in ngrams_unique}\n",
    "    for topic in ngrams_unique:\n",
    "        for item in ngrams_unique[topic]:\n",
    "            if ngrams_unique[topic][item]==1:\n",
    "                d[topic].append(item[0])\n",
    "    df = [ pd.DataFrame(data= d[topic], columns = [\"Topic_\"+str(i)]) for i, topic in enumerate(d) ] \n",
    "    ngrams_table = pd.concat(df, axis=1, keys=['N-grams']*14)\n",
    "    return ngrams_table\n",
    "    "
   ]
  },
  {
   "cell_type": "code",
   "execution_count": null,
   "metadata": {},
   "outputs": [],
   "source": []
  },
  {
   "cell_type": "code",
   "execution_count": 24,
   "metadata": {},
   "outputs": [
    {
     "data": {
      "text/html": [
       "<div>\n",
       "<style scoped>\n",
       "    .dataframe tbody tr th:only-of-type {\n",
       "        vertical-align: middle;\n",
       "    }\n",
       "\n",
       "    .dataframe tbody tr th {\n",
       "        vertical-align: top;\n",
       "    }\n",
       "\n",
       "    .dataframe thead tr th {\n",
       "        text-align: left;\n",
       "    }\n",
       "</style>\n",
       "<table border=\"1\" class=\"dataframe\">\n",
       "  <thead>\n",
       "    <tr>\n",
       "      <th></th>\n",
       "      <th colspan=\"14\" halign=\"left\">N-grams</th>\n",
       "    </tr>\n",
       "    <tr>\n",
       "      <th></th>\n",
       "      <th>Topic_0</th>\n",
       "      <th>Topic_1</th>\n",
       "      <th>Topic_2</th>\n",
       "      <th>Topic_3</th>\n",
       "      <th>Topic_4</th>\n",
       "      <th>Topic_5</th>\n",
       "      <th>Topic_6</th>\n",
       "      <th>Topic_7</th>\n",
       "      <th>Topic_8</th>\n",
       "      <th>Topic_9</th>\n",
       "      <th>Topic_10</th>\n",
       "      <th>Topic_11</th>\n",
       "      <th>Topic_12</th>\n",
       "      <th>Topic_13</th>\n",
       "    </tr>\n",
       "  </thead>\n",
       "  <tbody>\n",
       "    <tr>\n",
       "      <th>0</th>\n",
       "      <td>get doe</td>\n",
       "      <td>let anything</td>\n",
       "      <td>find god</td>\n",
       "      <td>try something</td>\n",
       "      <td>see jail</td>\n",
       "      <td>tell someone</td>\n",
       "      <td>i use</td>\n",
       "      <td>improve life</td>\n",
       "      <td>eat peanut</td>\n",
       "      <td>see title</td>\n",
       "      <td>need coddling</td>\n",
       "      <td>old kid</td>\n",
       "      <td>know anyone</td>\n",
       "      <td>go doctor</td>\n",
       "    </tr>\n",
       "    <tr>\n",
       "      <th>1</th>\n",
       "      <td>donate stuff</td>\n",
       "      <td>obvious trigger</td>\n",
       "      <td>consider sharing</td>\n",
       "      <td>come talk</td>\n",
       "      <td>face apology</td>\n",
       "      <td>delete part</td>\n",
       "      <td>present moment</td>\n",
       "      <td>increase empathy</td>\n",
       "      <td>lose weight</td>\n",
       "      <td>fuck buddy</td>\n",
       "      <td>have advice</td>\n",
       "      <td>roommate-type situation</td>\n",
       "      <td>hostile room</td>\n",
       "      <td>take methylphenidate</td>\n",
       "    </tr>\n",
       "    <tr>\n",
       "      <th>2</th>\n",
       "      <td>involve gambling</td>\n",
       "      <td>big time(i</td>\n",
       "      <td>jewish woman</td>\n",
       "      <td>make anything</td>\n",
       "      <td>afford oil</td>\n",
       "      <td>accept help</td>\n",
       "      <td>enough room</td>\n",
       "      <td>raise awareness</td>\n",
       "      <td>afford ice</td>\n",
       "      <td>drunk drive</td>\n",
       "      <td>afford anything</td>\n",
       "      <td>new state</td>\n",
       "      <td>residential care</td>\n",
       "      <td>take charge</td>\n",
       "    </tr>\n",
       "    <tr>\n",
       "      <th>3</th>\n",
       "      <td>biological sleepiness</td>\n",
       "      <td>other family</td>\n",
       "      <td>ncjw shelter</td>\n",
       "      <td>real thing</td>\n",
       "      <td>seem interest</td>\n",
       "      <td>gauge conflict</td>\n",
       "      <td>regular sex</td>\n",
       "      <td>see &lt;url&gt;</td>\n",
       "      <td>tap water</td>\n",
       "      <td>have dwarfism</td>\n",
       "      <td>stop worrying</td>\n",
       "      <td>next town</td>\n",
       "      <td>further abuse</td>\n",
       "      <td>disconnect today</td>\n",
       "    </tr>\n",
       "    <tr>\n",
       "      <th>4</th>\n",
       "      <td>pavlovian response</td>\n",
       "      <td>career/financial stability</td>\n",
       "      <td>entire hood</td>\n",
       "      <td>restless leg</td>\n",
       "      <td>do someone</td>\n",
       "      <td>plan everything</td>\n",
       "      <td>emotional intimacy</td>\n",
       "      <td>please share</td>\n",
       "      <td>eat rice</td>\n",
       "      <td>have anything</td>\n",
       "      <td>avoid lavender</td>\n",
       "      <td>only place</td>\n",
       "      <td>painful death</td>\n",
       "      <td>see someone</td>\n",
       "    </tr>\n",
       "    <tr>\n",
       "      <th>...</th>\n",
       "      <td>...</td>\n",
       "      <td>...</td>\n",
       "      <td>...</td>\n",
       "      <td>...</td>\n",
       "      <td>...</td>\n",
       "      <td>...</td>\n",
       "      <td>...</td>\n",
       "      <td>...</td>\n",
       "      <td>...</td>\n",
       "      <td>...</td>\n",
       "      <td>...</td>\n",
       "      <td>...</td>\n",
       "      <td>...</td>\n",
       "      <td>...</td>\n",
       "    </tr>\n",
       "    <tr>\n",
       "      <th>1302</th>\n",
       "      <td>NaN</td>\n",
       "      <td>NaN</td>\n",
       "      <td>NaN</td>\n",
       "      <td>NaN</td>\n",
       "      <td>NaN</td>\n",
       "      <td>NaN</td>\n",
       "      <td>NaN</td>\n",
       "      <td>NaN</td>\n",
       "      <td>NaN</td>\n",
       "      <td>NaN</td>\n",
       "      <td>NaN</td>\n",
       "      <td>NaN</td>\n",
       "      <td>NaN</td>\n",
       "      <td>driver license</td>\n",
       "    </tr>\n",
       "    <tr>\n",
       "      <th>1303</th>\n",
       "      <td>NaN</td>\n",
       "      <td>NaN</td>\n",
       "      <td>NaN</td>\n",
       "      <td>NaN</td>\n",
       "      <td>NaN</td>\n",
       "      <td>NaN</td>\n",
       "      <td>NaN</td>\n",
       "      <td>NaN</td>\n",
       "      <td>NaN</td>\n",
       "      <td>NaN</td>\n",
       "      <td>NaN</td>\n",
       "      <td>NaN</td>\n",
       "      <td>NaN</td>\n",
       "      <td>software engineer</td>\n",
       "    </tr>\n",
       "    <tr>\n",
       "      <th>1304</th>\n",
       "      <td>NaN</td>\n",
       "      <td>NaN</td>\n",
       "      <td>NaN</td>\n",
       "      <td>NaN</td>\n",
       "      <td>NaN</td>\n",
       "      <td>NaN</td>\n",
       "      <td>NaN</td>\n",
       "      <td>NaN</td>\n",
       "      <td>NaN</td>\n",
       "      <td>NaN</td>\n",
       "      <td>NaN</td>\n",
       "      <td>NaN</td>\n",
       "      <td>NaN</td>\n",
       "      <td>anxiety subreddit</td>\n",
       "    </tr>\n",
       "    <tr>\n",
       "      <th>1305</th>\n",
       "      <td>NaN</td>\n",
       "      <td>NaN</td>\n",
       "      <td>NaN</td>\n",
       "      <td>NaN</td>\n",
       "      <td>NaN</td>\n",
       "      <td>NaN</td>\n",
       "      <td>NaN</td>\n",
       "      <td>NaN</td>\n",
       "      <td>NaN</td>\n",
       "      <td>NaN</td>\n",
       "      <td>NaN</td>\n",
       "      <td>NaN</td>\n",
       "      <td>NaN</td>\n",
       "      <td>m ill</td>\n",
       "    </tr>\n",
       "    <tr>\n",
       "      <th>1306</th>\n",
       "      <td>NaN</td>\n",
       "      <td>NaN</td>\n",
       "      <td>NaN</td>\n",
       "      <td>NaN</td>\n",
       "      <td>NaN</td>\n",
       "      <td>NaN</td>\n",
       "      <td>NaN</td>\n",
       "      <td>NaN</td>\n",
       "      <td>NaN</td>\n",
       "      <td>NaN</td>\n",
       "      <td>NaN</td>\n",
       "      <td>NaN</td>\n",
       "      <td>NaN</td>\n",
       "      <td>one day</td>\n",
       "    </tr>\n",
       "  </tbody>\n",
       "</table>\n",
       "<p>1307 rows × 14 columns</p>\n",
       "</div>"
      ],
      "text/plain": [
       "                    N-grams                                                \\\n",
       "                    Topic_0                     Topic_1           Topic_2   \n",
       "0                   get doe                let anything          find god   \n",
       "1              donate stuff             obvious trigger  consider sharing   \n",
       "2          involve gambling                  big time(i      jewish woman   \n",
       "3     biological sleepiness                other family      ncjw shelter   \n",
       "4        pavlovian response  career/financial stability       entire hood   \n",
       "...                     ...                         ...               ...   \n",
       "1302                    NaN                         NaN               NaN   \n",
       "1303                    NaN                         NaN               NaN   \n",
       "1304                    NaN                         NaN               NaN   \n",
       "1305                    NaN                         NaN               NaN   \n",
       "1306                    NaN                         NaN               NaN   \n",
       "\n",
       "                                                                         \\\n",
       "            Topic_3        Topic_4          Topic_5             Topic_6   \n",
       "0     try something       see jail     tell someone               i use   \n",
       "1         come talk   face apology      delete part      present moment   \n",
       "2     make anything     afford oil      accept help         enough room   \n",
       "3        real thing  seem interest   gauge conflict         regular sex   \n",
       "4      restless leg     do someone  plan everything  emotional intimacy   \n",
       "...             ...            ...              ...                 ...   \n",
       "1302            NaN            NaN              NaN                 NaN   \n",
       "1303            NaN            NaN              NaN                 NaN   \n",
       "1304            NaN            NaN              NaN                 NaN   \n",
       "1305            NaN            NaN              NaN                 NaN   \n",
       "1306            NaN            NaN              NaN                 NaN   \n",
       "\n",
       "                                                                     \\\n",
       "               Topic_7      Topic_8        Topic_9         Topic_10   \n",
       "0         improve life   eat peanut      see title    need coddling   \n",
       "1     increase empathy  lose weight     fuck buddy      have advice   \n",
       "2      raise awareness   afford ice    drunk drive  afford anything   \n",
       "3            see <url>    tap water  have dwarfism    stop worrying   \n",
       "4         please share     eat rice  have anything   avoid lavender   \n",
       "...                ...          ...            ...              ...   \n",
       "1302               NaN          NaN            NaN              NaN   \n",
       "1303               NaN          NaN            NaN              NaN   \n",
       "1304               NaN          NaN            NaN              NaN   \n",
       "1305               NaN          NaN            NaN              NaN   \n",
       "1306               NaN          NaN            NaN              NaN   \n",
       "\n",
       "                                                                       \n",
       "                     Topic_11          Topic_12              Topic_13  \n",
       "0                     old kid       know anyone             go doctor  \n",
       "1     roommate-type situation      hostile room  take methylphenidate  \n",
       "2                   new state  residential care           take charge  \n",
       "3                   next town     further abuse      disconnect today  \n",
       "4                  only place     painful death           see someone  \n",
       "...                       ...               ...                   ...  \n",
       "1302                      NaN               NaN        driver license  \n",
       "1303                      NaN               NaN     software engineer  \n",
       "1304                      NaN               NaN     anxiety subreddit  \n",
       "1305                      NaN               NaN                 m ill  \n",
       "1306                      NaN               NaN               one day  \n",
       "\n",
       "[1307 rows x 14 columns]"
      ]
     },
     "execution_count": 24,
     "metadata": {},
     "output_type": "execute_result"
    }
   ],
   "source": [
    "ngrams_table = create_ngrams_table(Topics_bigrams, ngrams_unique)\n",
    "ngrams_table"
   ]
  },
  {
   "cell_type": "markdown",
   "metadata": {},
   "source": [
    "While the unique ngrams is possible to exist just because of the length of the posts and do not carry any significance in the sentiment analysis, it is useful to look at the most popular ngrams which were found in the step above and categorise them in stressors.\n",
    "\n",
    "Since we do not have labelled data on stressors, an automated process which will look at the distribution of these ngrams in the various stressor categories, is not feasible. Therefore we will look manually the ngrams and subjectively allocate them in stressor categories.\n",
    "\n",
    "To reduce the bias of the subjective decission, it is good for the ngrams categorisation to be done by a group of at least 5 persons."
   ]
  },
  {
   "cell_type": "markdown",
   "metadata": {},
   "source": [
    "## Training the Word2Vec model on dreaddit dataset\n",
    "[[back to contents]](#Contents:)\n",
    "\n",
    "Here I will use the Word2Vec (https://radimrehurek.com/gensim/models/word2vec.html) deep learning architecturep to train the model and produce word embeddings for our corpus tokens.\n",
    "Thereafter I will use the stressor titles to find words which are similar to these and that will give good indication regarding the stressor.\n",
    "\n",
    "This will help us to expand the list of keyword patterns we are looking to match with the stress posts, using spaCy PhraseMatcher. "
   ]
  },
  {
   "cell_type": "code",
   "execution_count": 25,
   "metadata": {},
   "outputs": [],
   "source": [
    "import gensim.downloader \n",
    "import gensim\n",
    "from gensim.models import KeyedVectors\n"
   ]
  },
  {
   "cell_type": "code",
   "execution_count": 26,
   "metadata": {},
   "outputs": [],
   "source": [
    "def create_doc_sentences(df):\n",
    "    \"\"\"\n",
    "    Creates a list of lists, containing the spaCy posts (sentences) to be used for the word embedding training.\n",
    "    \n",
    "    Parameters\n",
    "    ----------\n",
    "    df : pandas.DataFrame()\n",
    "        dataframe containing posts and topics\n",
    "        posts must be in a ['text'] column\n",
    "        topics must be in a ['Topic'] column\n",
    "\n",
    "    Returns\n",
    "    -------\n",
    "    sentences : list of list of spaCy documents \n",
    "    \"\"\"\n",
    "    sentences = []\n",
    "    topic_n = len(df2['Topic'].value_counts()) - 1\n",
    "    for topic in range(topic_n):\n",
    "        topic_df = df2[df2['Topic'].values == topic]\n",
    "        topic_text = topic_df['text']\n",
    "        list_topic = topic_text.tolist()\n",
    "        #create a list of spacy posts\n",
    "        doc = list(nlp.pipe(list_topic))\n",
    "        #put the same topic post in the sentences list for the word embedding training\n",
    "        sentences.append(doc)\n",
    "    return sentences"
   ]
  },
  {
   "cell_type": "code",
   "execution_count": 27,
   "metadata": {},
   "outputs": [],
   "source": [
    "sentences = create_doc_sentences(df2)"
   ]
  },
  {
   "cell_type": "code",
   "execution_count": 28,
   "metadata": {},
   "outputs": [
    {
     "data": {
      "text/plain": [
       "14"
      ]
     },
     "execution_count": 28,
     "metadata": {},
     "output_type": "execute_result"
    }
   ],
   "source": [
    "len(sentences)"
   ]
  },
  {
   "cell_type": "code",
   "execution_count": 29,
   "metadata": {},
   "outputs": [],
   "source": [
    "filtered_tokens_per_topic= []\n",
    "for sublist in sentences:\n",
    "    for post in sublist:\n",
    "        filtered_tokens = [token.text.lower() for token in post if (not token.is_stop) and token.is_alpha]\n",
    "        filtered_tokens_per_topic.append(filtered_tokens)\n",
    "    "
   ]
  },
  {
   "cell_type": "code",
   "execution_count": null,
   "metadata": {},
   "outputs": [],
   "source": []
  },
  {
   "cell_type": "code",
   "execution_count": 30,
   "metadata": {},
   "outputs": [],
   "source": [
    "# instantiate a model to be trained on the stressor posts clustered by topic\n",
    "\n",
    "model = gensim.models.Word2Vec(\n",
    "        sentences = filtered_tokens_per_topic,\n",
    "        vector_size = 100,\n",
    "        window=10,\n",
    "        min_count=3,\n",
    "        workers=6,\n",
    "        epochs=20)\n",
    "\n"
   ]
  },
  {
   "cell_type": "code",
   "execution_count": 31,
   "metadata": {},
   "outputs": [],
   "source": [
    "stress_categories = ['family', 'school', 'relationship', 'future', 'self', 'financial', 'social', 'home', 'mental', 'career', 'abuse', 'health']\n",
    "\n",
    "#define lists for filling with stressor keywords\n",
    "family_keywords = []\n",
    "school_keywords = []\n",
    "relationship_keywords = []\n",
    "future_keywords = []\n",
    "self_keywords = []\n",
    "financial_keywords = []\n",
    "social_keywords = []\n",
    "home_keywords = []\n",
    "mental_keywords = []\n",
    "career_keywords = []\n",
    "abuse_keywords = []\n",
    "health_keywords = []\n",
    "\n",
    "#!! It is important to keep the order of the lists the same as the order of the stress_categories in the list above\n",
    "keyword_lists = [ family_keywords, school_keywords, relationship_keywords, future_keywords, self_keywords, financial_keywords, social_keywords,\n",
    "                home_keywords, mental_keywords, career_keywords,abuse_keywords, health_keywords ]\n",
    "\n",
    "#create dictionary of keywords per stressor category\n",
    "stressor_keys = dict(zip(stress_categories,keyword_lists))\n",
    "\n",
    "for i, key in enumerate(stressor_keys):\n",
    "    try:\n",
    "        similar = model.wv.most_similar(key, topn=20)\n",
    "        for word in similar:\n",
    "            keyword_lists[i].append(word[0])\n",
    "        stressor_keys[key] = set(keyword_lists[i])\n",
    "    except:\n",
    "        pass\n",
    "\n"
   ]
  },
  {
   "cell_type": "markdown",
   "metadata": {},
   "source": [
    "The following keys will be passed on as patterns to the spaCy PhraseMatcher to observe the detection of stressors in the posts. I am caucious about using these terms though, as the Word2Vec model has been trained only on the dreaddit dataset which is limited and this method may cause the predition to overfit on the training set. \n"
   ]
  },
  {
   "cell_type": "code",
   "execution_count": 32,
   "metadata": {},
   "outputs": [
    {
     "name": "stdout",
     "output_type": "stream",
     "text": [
      "{'family': {'smaller', 'jewish', 'wife', 'brother', 'visit', 'kids', 'creepy', 'cousins', 'son', 'siblings', 'tuition', 'niece', 'children', 'grandpa', 'stepfather', 'custody', 'child', 'parents', 'sister', 'father'}, 'school': {'new', 'stay', 'city', 'getting', 'late', 'apartment', 'college', 'town', 'packed', 'cleared', 'hotel', 'beaten', 'niece', 'room', 'fed', 'freshman', 'diploma', 'living', 'home', 'high'}, 'relationship': {'abused', 'married', 'sweet', 'ex', 'guy', 'girl', 'met', 'boyfriend', 'abusive', 'man', 'past', 'dynamic', 'times', 'highschool', 'abuse', 'sexual', 'tongue', 'dating', 'dated', 'f'}, 'future': {'studying', 'flow', 'main', 'uk', 'y', 'phase', 'hey', 'posts', 'copy', 'treating', 'aware', 'success', 'nature', 'progress', 'everybody', 'season', 'pattern', 'curve', 'canada', 'o'}, 'self': {'situations', 'embarrassment', 'possibly', 'triggers', 'familiar', 'honest', 'occurred', 'anger', 'understanding', 'sends', 'negative', 'typical', 'lead', 'overthinking', 'look', 'meltdown', 'deserve', 'words', 'deep', 'hurts'}, 'financial': {'path', 'lower', 'area', 'position', 'option', 'medical', 'shelters', 'apply', 'poor', 'housing', 'proper', 'limited', 'homelessness', 'atm', 'stability', 'bay', 'selling', 'depending', 'balance', 'rest'}, 'social': {'main', 'movement', 'phase', 'moderate', 'entirely', 'open', 'drug', 'asd', 'effects', 'success', 'progress', 'effect', 'everybody', 'psychotic', 'evaluation', 'diagnosis', 'depressive', 'spectrum', 'x', 'studies'}, 'home': {'new', 'house', 'stay', 'week', 'brother', 'car', 'drive', 'son', 'door', 'town', 'packed', 'away', 'room', 'got', 'mom', 'parents', 'slammed', 'leave', 'school', 'came'}, 'mental': {'awareness', 'stories', 'platform', 'subject', 'stressful', 'experiences', 'illnesses', 'stigma', 'applications', 'experience', 'illness', 'unique', 'museum', 'objects', 'therapy', 'wellness', 'health', 'issues', 'constructive', 'ages'}, 'career': {'roughly', 'excited', 'july', 'successful', 'august', 'accused', 'moving', 'female', 'owned', 'nyc', 'settled', 'signed', 'booked', 'designer', 'aunt', 'split', 'separated', 'business', 'junior', 'mates'}, 'abuse': {'abused', 'dysfunctional', 'childhood', 'alcoholic', 'men', 'abusive', 'james', 'intimate', 'dynamic', 'precise', 'dv', 'borderline', 'raped', 'emotionally', 'young', 'child', 'substance', 'sexual', 'verbal', 'women'}, 'health': {'awareness', 'stories', 'platform', 'subject', 'experiences', 'related', 'illnesses', 'stigma', 'applications', 'experience', 'illness', 'unique', 'mental', 'museum', 'therapy', 'wellness', 'issues', 'homosexual', 'constructive', 'ages'}}\n"
     ]
    }
   ],
   "source": [
    "print(stressor_keys)"
   ]
  },
  {
   "cell_type": "code",
   "execution_count": null,
   "metadata": {},
   "outputs": [],
   "source": []
  }
 ],
 "metadata": {
  "kernelspec": {
   "display_name": "KidzAbout",
   "language": "python",
   "name": "kidzabout"
  },
  "language_info": {
   "codemirror_mode": {
    "name": "ipython",
    "version": 3
   },
   "file_extension": ".py",
   "mimetype": "text/x-python",
   "name": "python",
   "nbconvert_exporter": "python",
   "pygments_lexer": "ipython3",
   "version": "3.7.10"
  }
 },
 "nbformat": 4,
 "nbformat_minor": 4
}
